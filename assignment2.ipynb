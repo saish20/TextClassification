{
 "cells": [
  {
   "cell_type": "markdown",
   "metadata": {},
   "source": [
    "### Code written on Windows Machine"
   ]
  },
  {
   "cell_type": "markdown",
   "metadata": {},
   "source": [
    "# [COM6513] Assignment 2: Text Classification with a Feedforward Network\n",
    "\n",
    "\n",
    "### Instructor: Nikos Aletras\n",
    "\n",
    "\n",
    "The goal of this assignment is to develop a Feedforward neural network for text classification. \n",
    "\n",
    "\n",
    "\n",
    "For that purpose, you will implement:\n",
    "\n",
    "- Text processing methods for transforming raw text data into input vectors for your network  (**2 marks**)\n",
    "\n",
    "\n",
    "- A Feedforward network consisting of:\n",
    "    - **One-hot** input layer mapping words into an **Embedding weight matrix** (**2 marks**)\n",
    "    - **One hidden layer** computing the mean embedding vector of all words in input followed by a **ReLU activation function** (**2 marks**)\n",
    "    - **Output layer** with a **softmax** activation. (**2 marks**)\n",
    "\n",
    "\n",
    "- The Stochastic Gradient Descent (SGD) algorithm with **back-propagation** to learn the weights of your Neural network. Your algorithm should:\n",
    "    - Use (and minimise) the **Categorical Cross-entropy loss** function (**2 marks**)\n",
    "    - Perform a **Forward pass** to compute intermediate outputs (**5 marks**)\n",
    "    - Perform a **Backward pass** to compute gradients and update all sets of weights (**12 marks**)\n",
    "    - Implement and use **Dropout** after each hidden layer for regularisation (**4 marks**)\n",
    "\n",
    "\n",
    "\n",
    "- Discuss how did you choose hyperparameters? You can tune the learning rate (hint: choose small values), embedding size {e.g. 50, 300, 500}, the dropout rate {e.g. 0.2, 0.5} and the learning rate. Please use tables or graphs to show training and validation performance for each hyperparameter combination  (**5 marks**). \n",
    "\n",
    "\n",
    "\n",
    "- After training a model, plot the learning process (i.e. training and validation loss in each epoch) using a line plot and report accuracy. Does your model overfit, underfit or is about right? (**2 marks**).\n",
    "\n",
    "\n",
    "\n",
    "- Re-train your network by using pre-trained embeddings ([GloVe](https://nlp.stanford.edu/projects/glove/)) trained on large corpora. Instead of randomly initialising the embedding weights matrix, you should initialise it with the pre-trained weights. During training, you should not update them (i.e. weight freezing) and backprop should stop before computing gradients for updating embedding weights. Report results by performing hyperparameter tuning and plotting the learning process. Do you get better performance? (**7 marks**).\n",
    "\n",
    "\n",
    "\n",
    "- Extend you Feedforward network by adding more hidden layers (e.g. one more or two). How does it affect the performance? Note: You need to repeat hyperparameter tuning, but the number of combinations grows exponentially. Therefore, you need to choose a subset of all possible combinations (**8 marks**)\n",
    "\n",
    "\n",
    "- Provide well documented and commented code describing all of your choices. In general, you are free to make decisions about text processing (e.g. punctuation, numbers, vocabulary size) and hyperparameter values. We expect to see justifications and discussion for all of your choices (**5 marks**). \n",
    "\n",
    "\n",
    "\n",
    "- Provide efficient solutions by using Numpy arrays when possible. Executing the whole notebook with your code should not take more than 10 minutes on any standard computer (e.g. Intel Core i5 CPU, 8 or 16GB RAM) excluding hyperparameter tuning runs and loading the pretrained vectors. You can find tips in [Intro to Python for NLP](https://sheffieldnlp.github.io/com6513/assets/labs/a0_python_intro.pdf) (**2 marks**). \n",
    "\n",
    "\n",
    "\n",
    "### Data \n",
    "\n",
    "The data you will use for the task is a subset of the [AG News Corpus](http://groups.di.unipi.it/~gulli/AG_corpus_of_news_articles.html) and you can find it in the `./data_topic` folder in CSV format:\n",
    "\n",
    "- `data_topic/train.csv`: contains 2,400 news articles, 800 for each class to be used for training.\n",
    "- `data_topic/dev.csv`: contains 150 news articles, 50 for each class to be used for hyperparameter selection and monitoring the training process.\n",
    "- `data_topic/test.csv`: contains 900 news articles, 300 for each class to be used for testing.\n",
    "\n",
    "### Pre-trained Embeddings\n",
    "\n",
    "You can download pre-trained GloVe embeddings trained on Common Crawl (840B tokens, 2.2M vocab, cased, 300d vectors, 2.03 GB download) from [here](http://nlp.stanford.edu/data/glove.840B.300d.zip). No need to unzip, the file is large.\n",
    "\n",
    "### Save Memory\n",
    "\n",
    "To save RAM, when you finish each experiment you can delete the weights of your network using `del W` followed by Python's garbage collector `gc.collect()`\n",
    "\n",
    "\n"
   ]
  },
  {
   "cell_type": "markdown",
   "metadata": {},
   "source": [
    "### Submission Instructions\n",
    "\n",
    "You should submit a Jupyter Notebook file (assignment2.ipynb) and an exported PDF version (you can do it from Jupyter: `File->Download as->PDF via Latex`).\n",
    "\n",
    "\n",
    "You are advised to follow the code structure given in this notebook by completing all given funtions. You can also write any auxilliary/helper functions (and arguments for the functions) that you might need but note that you can provide a full solution without any such functions. Similarly, you can just use only the packages imported below but you are free to use any functionality from the [Python Standard Library](https://docs.python.org/2/library/index.html), NumPy, SciPy (excluding built-in softmax funtcions) and Pandas. You are **not allowed to use any third-party library** such as Scikit-learn (apart from metric functions already provided), NLTK, Spacy, Keras, Pytorch etc.. You should mention if you've used Windows to write and test your code because we mostly use Unix based machines for marking (e.g. Ubuntu, MacOS). \n",
    "\n",
    "There is no single correct answer on what your accuracy should be, but correct implementations usually achieve F1-scores around 80\\% or higher. The quality of the analysis of the results is as important as the accuracy itself. \n",
    "\n",
    "This assignment will be marked out of 60. It is worth 60\\% of your final grade in the module.\n",
    "\n",
    "The deadline for this assignment is **23:59 on Fri, 23 Apr 2021** and it needs to be submitted via Blackboard. Standard departmental penalties for lateness will be applied. We use a range of strategies to **detect [unfair means](https://www.sheffield.ac.uk/ssid/unfair-means/index)**, including Turnitin which helps detect plagiarism. Use of unfair means would result in getting a failing grade.\n",
    "\n"
   ]
  },
  {
   "cell_type": "code",
   "execution_count": 1,
   "metadata": {
    "ExecuteTime": {
     "end_time": "2020-04-02T15:00:18.625532Z",
     "start_time": "2020-04-02T15:00:17.377733Z"
    },
    "scrolled": true
   },
   "outputs": [],
   "source": [
    "import pandas as pd\n",
    "import numpy as np\n",
    "from collections import Counter\n",
    "import re\n",
    "import matplotlib.pyplot as plt\n",
    "from sklearn.metrics import accuracy_score, precision_score, recall_score, f1_score\n",
    "import random\n",
    "from time import localtime, strftime\n",
    "from scipy.stats import spearmanr,pearsonr\n",
    "import zipfile\n",
    "import gc\n",
    "\n",
    "# fixing random seed for reproducibility\n",
    "random.seed(123)\n",
    "np.random.seed(123)\n"
   ]
  },
  {
   "cell_type": "markdown",
   "metadata": {},
   "source": [
    "## Transform Raw texts into training and development data\n",
    "\n",
    "First, you need to load the training, development and test sets from their corresponding CSV files (tip: you can use Pandas dataframes)."
   ]
  },
  {
   "cell_type": "code",
   "execution_count": 2,
   "metadata": {
    "ExecuteTime": {
     "end_time": "2020-04-02T14:26:39.748484Z",
     "start_time": "2020-04-02T14:26:39.727404Z"
    },
    "scrolled": true
   },
   "outputs": [],
   "source": [
    "train = pd.read_csv(\"data_topic/train.csv\",names= ['Topic','Articles'])\n",
    "dev = pd.read_csv(\"data_topic/dev.csv\",names= ['Topic','Articles'])\n",
    "test = pd.read_csv(\"data_topic/test.csv\",names= ['Topic','Articles'])"
   ]
  },
  {
   "cell_type": "code",
   "execution_count": 3,
   "metadata": {
    "ExecuteTime": {
     "end_time": "2020-04-02T14:26:39.753874Z",
     "start_time": "2020-04-02T14:26:39.749647Z"
    },
    "scrolled": true
   },
   "outputs": [],
   "source": [
    "\n",
    "train_articles = train['Articles'].values.tolist()\n",
    "\n",
    "dev_articles = dev['Articles'].values.tolist()\n",
    "\n",
    "test_articles = test['Articles'].values.tolist()\n"
   ]
  },
  {
   "cell_type": "code",
   "execution_count": 4,
   "metadata": {},
   "outputs": [
    {
     "data": {
      "text/html": [
       "<div>\n",
       "<style scoped>\n",
       "    .dataframe tbody tr th:only-of-type {\n",
       "        vertical-align: middle;\n",
       "    }\n",
       "\n",
       "    .dataframe tbody tr th {\n",
       "        vertical-align: top;\n",
       "    }\n",
       "\n",
       "    .dataframe thead th {\n",
       "        text-align: right;\n",
       "    }\n",
       "</style>\n",
       "<table border=\"1\" class=\"dataframe\">\n",
       "  <thead>\n",
       "    <tr style=\"text-align: right;\">\n",
       "      <th></th>\n",
       "      <th>Topic</th>\n",
       "      <th>Articles</th>\n",
       "    </tr>\n",
       "  </thead>\n",
       "  <tbody>\n",
       "    <tr>\n",
       "      <th>0</th>\n",
       "      <td>1</td>\n",
       "      <td>Canadian Press - VANCOUVER (CP) - The sister o...</td>\n",
       "    </tr>\n",
       "    <tr>\n",
       "      <th>1</th>\n",
       "      <td>1</td>\n",
       "      <td>AP - The man who claims Gov. James E. McGreeve...</td>\n",
       "    </tr>\n",
       "    <tr>\n",
       "      <th>2</th>\n",
       "      <td>1</td>\n",
       "      <td>NAJAF, Iraq - Explosions and gunfire rattled t...</td>\n",
       "    </tr>\n",
       "    <tr>\n",
       "      <th>3</th>\n",
       "      <td>1</td>\n",
       "      <td>LOURDES, France - A frail Pope John Paul II, b...</td>\n",
       "    </tr>\n",
       "    <tr>\n",
       "      <th>4</th>\n",
       "      <td>1</td>\n",
       "      <td>Supporters and rivals warn of possible fraud; ...</td>\n",
       "    </tr>\n",
       "  </tbody>\n",
       "</table>\n",
       "</div>"
      ],
      "text/plain": [
       "   Topic                                           Articles\n",
       "0      1  Canadian Press - VANCOUVER (CP) - The sister o...\n",
       "1      1  AP - The man who claims Gov. James E. McGreeve...\n",
       "2      1  NAJAF, Iraq - Explosions and gunfire rattled t...\n",
       "3      1  LOURDES, France - A frail Pope John Paul II, b...\n",
       "4      1  Supporters and rivals warn of possible fraud; ..."
      ]
     },
     "execution_count": 4,
     "metadata": {},
     "output_type": "execute_result"
    }
   ],
   "source": [
    "test.head()"
   ]
  },
  {
   "cell_type": "markdown",
   "metadata": {},
   "source": [
    "# Create input representations\n",
    "\n",
    "\n",
    "To train your Feedforward network, you first need to obtain input representations given a vocabulary. One-hot encoding requires large memory capacity. Therefore, we will instead represent documents as lists of vocabulary indices (each word corresponds to a vocabulary index). \n",
    "\n",
    "\n",
    "## Text Pre-Processing Pipeline\n",
    "\n",
    "To obtain a vocabulary of words. You should: \n",
    "- tokenise all texts into a list of unigrams (tip: you can re-use the functions from Assignment 1) \n",
    "- remove stop words (using the one provided or one of your preference) \n",
    "- remove unigrams appearing in less than K documents\n",
    "- use the remaining to create a vocabulary of the top-N most frequent unigrams in the entire corpus.\n"
   ]
  },
  {
   "cell_type": "code",
   "execution_count": 5,
   "metadata": {
    "ExecuteTime": {
     "end_time": "2020-04-02T14:26:40.851926Z",
     "start_time": "2020-04-02T14:26:40.847500Z"
    },
    "scrolled": true
   },
   "outputs": [],
   "source": [
    "stop_words = ['a','in','on','at','and','or', \n",
    "              'to', 'the', 'of', 'an', 'by', \n",
    "              'as', 'is', 'was', 'were', 'been', 'be', \n",
    "              'are','for', 'this', 'that', 'these', 'those', 'you', 'i', 'if',\n",
    "             'it', 'he', 'she', 'we', 'they', 'will', 'have', 'has',\n",
    "              'do', 'did', 'can', 'could', 'who', 'which', 'what',\n",
    "              'but', 'not', 'there', 'no', 'does', 'not', 'so', 've', 'their',\n",
    "             'his', 'her', 'they', 'them', 'from', 'with', 'its']\n"
   ]
  },
  {
   "cell_type": "markdown",
   "metadata": {},
   "source": [
    "### Unigram extraction from a document\n",
    "\n",
    "You first need to implement the `extract_ngrams` function. It takes as input:\n",
    "- `x_raw`: a string corresponding to the raw text of a document\n",
    "- `ngram_range`: a tuple of two integers denoting the type of ngrams you want to extract, e.g. (1,2) denotes extracting unigrams and bigrams.\n",
    "- `token_pattern`: a string to be used within a regular expression to extract all tokens. Note that data is already tokenised so you could opt for a simple white space tokenisation.\n",
    "- `stop_words`: a list of stop words\n",
    "- `vocab`: a given vocabulary. It should be used to extract specific features.\n",
    "\n",
    "and returns:\n",
    "\n",
    "- a list of all extracted features.\n"
   ]
  },
  {
   "cell_type": "code",
   "execution_count": 6,
   "metadata": {
    "ExecuteTime": {
     "end_time": "2020-05-11T08:23:17.181553Z",
     "start_time": "2020-05-11T08:23:17.178314Z"
    },
    "scrolled": true
   },
   "outputs": [],
   "source": [
    "def extract_ngrams(x_raw, ngram_range=(1,3), token_pattern=r'\\b[A-Za-z][A-Za-z]+\\b', \n",
    "                   stop_words=[], vocab=set()):\n",
    "    \n",
    "    tokenRE = re.compile(token_pattern)\n",
    "    \n",
    "    # first extract all unigrams by tokenising\n",
    "    x_uni = [w for w in tokenRE.findall(str(x_raw).lower(),) if w not in stop_words]\n",
    "    \n",
    "    \n",
    "    # this is to store the ngrams to be returned\n",
    "    x = []\n",
    "    \n",
    "\n",
    "    \n",
    "    if ngram_range[0]==1:\n",
    "        x = x_uni\n",
    "\n",
    "\n",
    "    # generate n-grams from the available unigrams x_uni\n",
    "    ngrams = []\n",
    "    for n in range(ngram_range[0], ngram_range[1]+1):\n",
    "\n",
    "    # ignore unigrams\n",
    "        if n==1: continue\n",
    "\n",
    "        # pass a list of lists as an argument for zip\n",
    "        arg_list = [x_uni]+[x_uni[i:] for i in range(1, n)]\n",
    "\n",
    "        # extract tuples of n-grams using zip\n",
    "        # for bigram this should look: list(zip(x_uni, x_uni[1:]))\n",
    "        # align each item x[i] in x_uni with the next one x[i+1]. \n",
    "        # Note that x_uni and x_uni[1:] have different lenghts\n",
    "        # but zip ignores redundant elements at the end of the second list\n",
    "        # Alternatively, this could be done with for loops\n",
    "        x_ngram = list(zip(*arg_list))\n",
    "        ngrams.append(x_ngram)\n",
    "\n",
    "\n",
    "    for n in ngrams:\n",
    "        for t in n:\n",
    "            x.append(t)\n",
    "\n",
    "    if len(vocab)>0:\n",
    "        x = [w for w in x if w in vocab]\n",
    "        \n",
    "    return x\n",
    "\n",
    "\n",
    "\n",
    "\n",
    "\n"
   ]
  },
  {
   "cell_type": "markdown",
   "metadata": {},
   "source": [
    "### Create a vocabulary of n-grams\n",
    "\n",
    "Then the `get_vocab` function will be used to (1) create a vocabulary of ngrams; (2) count the document frequencies of ngrams; (3) their raw frequency. It takes as input:\n",
    "- `X_raw`: a list of strings each corresponding to the raw text of a document\n",
    "- `ngram_range`: a tuple of two integers denoting the type of ngrams you want to extract, e.g. (1,2) denotes extracting unigrams and bigrams.\n",
    "- `token_pattern`: a string to be used within a regular expression to extract all tokens. Note that data is already tokenised so you could opt for a simple white space tokenisation.\n",
    "- `stop_words`: a list of stop words\n",
    "- `min_df`: keep ngrams with a minimum document frequency.\n",
    "- `keep_topN`: keep top-N more frequent ngrams.\n",
    "\n",
    "and returns:\n",
    "\n",
    "- `vocab`: a set of the n-grams that will be used as features.\n",
    "- `df`: a Counter (or dict) that contains ngrams as keys and their corresponding document frequency as values.\n",
    "- `ngram_counts`: counts of each ngram in vocab\n"
   ]
  },
  {
   "cell_type": "code",
   "execution_count": 7,
   "metadata": {
    "ExecuteTime": {
     "end_time": "2020-04-02T14:26:42.563876Z",
     "start_time": "2020-04-02T14:26:42.557967Z"
    },
    "scrolled": true
   },
   "outputs": [],
   "source": [
    "def get_vocab(X_raw, ngram_range=(1,3), token_pattern=r'\\b[A-Za-z][A-Za-z]+\\b', \n",
    "              min_df=0, keep_topN=0, \n",
    "              stop_words=[]):\n",
    "    \n",
    "    \n",
    "    tokenRE = re.compile(token_pattern)\n",
    "    \n",
    "    df = Counter()\n",
    "    ngram_counts = Counter()\n",
    "    vocab = set()\n",
    "    \n",
    "    # interate through each raw text\n",
    "    for x in X_raw:\n",
    "        \n",
    "        x_ngram = extract_ngrams(x, ngram_range=ngram_range, token_pattern=token_pattern, \n",
    "                                 stop_words=stop_words)\n",
    "        \n",
    "        #update doc and ngram frequencies \n",
    "        df.update(list(set(x_ngram)))\n",
    "        ngram_counts.update(x_ngram)\n",
    "\n",
    "    # obtain a vocabulary as a set. \n",
    "    # Keep elements with doc frequency > minimum doc freq (min_df)\n",
    "    # Note that df contains all te\n",
    "    vocab = set([w for w in df if df[w]>=min_df])\n",
    "    \n",
    "    # keep the top N most freqent \n",
    "    if keep_topN>0:\n",
    "        vocab = set([w[0] for w in ngram_counts.most_common(keep_topN) \n",
    "                     if w[0] in vocab])\n",
    "    \n",
    "    \n",
    "    return vocab, df, ngram_counts"
   ]
  },
  {
   "cell_type": "markdown",
   "metadata": {},
   "source": [
    "Now you should use `get_vocab` to create your vocabulary and get document and raw frequencies of unigrams:"
   ]
  },
  {
   "cell_type": "code",
   "execution_count": 8,
   "metadata": {
    "ExecuteTime": {
     "end_time": "2020-04-02T14:26:43.577997Z",
     "start_time": "2020-04-02T14:26:43.478950Z"
    },
    "scrolled": true
   },
   "outputs": [],
   "source": [
    "vocab, df, ngram_counts = get_vocab(train_articles, \n",
    "                          ngram_range=(1,1), \n",
    "                          stop_words=stop_words,\n",
    "                          min_df=3, keep_topN=2000)"
   ]
  },
  {
   "cell_type": "markdown",
   "metadata": {},
   "source": [
    "Then, you need to create vocabulary id -> word and word -> vocabulary id dictionaries for reference:"
   ]
  },
  {
   "cell_type": "code",
   "execution_count": 9,
   "metadata": {
    "ExecuteTime": {
     "end_time": "2020-04-02T14:26:44.069661Z",
     "start_time": "2020-04-02T14:26:44.065058Z"
    },
    "scrolled": true
   },
   "outputs": [],
   "source": [
    "vocabid_word_dict = dict(zip(range(len(vocab)),vocab))\n",
    "word_vocabid_dict = dict(zip(vocab,range(len(vocab))))"
   ]
  },
  {
   "cell_type": "markdown",
   "metadata": {},
   "source": [
    "### Convert the list of unigrams  into a list of vocabulary indices"
   ]
  },
  {
   "cell_type": "markdown",
   "metadata": {},
   "source": [
    "Storing actual one-hot vectors into memory for all words in the entire data set is prohibitive. Instead, we will store word indices in the vocabulary and look-up the weight matrix. This is equivalent of doing a dot product between an one-hot vector and the weight matrix. \n",
    "\n",
    "First, represent documents in train, dev and test sets as lists of words in the vocabulary:"
   ]
  },
  {
   "cell_type": "code",
   "execution_count": 10,
   "metadata": {},
   "outputs": [],
   "source": [
    "train_ngrams=[]\n",
    "dev_ngrams=[]\n",
    "test_ngrams=[]\n",
    "\n",
    "#Step 1: extract all the ngrams from each row in the dataset\n",
    "#Step 2: find the words which are present in the vocab\n",
    "#Step 3: add the common words to the list\n",
    "\n",
    "\n",
    "for articles in train_articles:\n",
    "    ngrams = extract_ngrams(articles,                             \n",
    "                            ngram_range=(1,1), \n",
    "                            stop_words=stop_words)\n",
    "    train_ngrams.append(list(set(ngrams).intersection(vocab)))\n",
    "\n",
    "for articles in dev_articles:\n",
    "    ngrams = extract_ngrams(articles,                             \n",
    "                            ngram_range=(1,1), \n",
    "                            stop_words=stop_words)\n",
    "    dev_ngrams.append(list(set(ngrams).intersection(vocab)))\n",
    "\n",
    "for articles in test_articles:\n",
    "    ngrams = extract_ngrams(articles,                             \n",
    "                            ngram_range=(1,1), \n",
    "                            stop_words=stop_words)\n",
    "    test_ngrams.append(list(set(ngrams).intersection(vocab)))\n",
    "    "
   ]
  },
  {
   "cell_type": "markdown",
   "metadata": {},
   "source": [
    "Then convert them into lists of indices in the vocabulary:"
   ]
  },
  {
   "cell_type": "code",
   "execution_count": 11,
   "metadata": {},
   "outputs": [],
   "source": [
    "X_tr = [[list(vocab).index(gram) for gram in ngrams if gram in vocab ] for ngrams in train_ngrams]\n",
    "X_dev = [[list(vocab).index(gram) for gram in ngrams if gram in vocab ] for ngrams in dev_ngrams]\n",
    "X_te = [[list(vocab).index(gram) for gram in ngrams if gram in vocab ] for ngrams in test_ngrams]\n"
   ]
  },
  {
   "cell_type": "markdown",
   "metadata": {},
   "source": [
    "Put the labels `Y` for train, dev and test sets into arrays: "
   ]
  },
  {
   "cell_type": "code",
   "execution_count": 12,
   "metadata": {
    "ExecuteTime": {
     "end_time": "2020-04-02T15:03:13.183996Z",
     "start_time": "2020-04-02T15:03:13.077575Z"
    },
    "scrolled": true
   },
   "outputs": [],
   "source": [
    "train_values = train['Topic'].to_numpy()\n",
    "dev_values = dev['Topic'].to_numpy()\n",
    "test_values = test['Topic'].to_numpy()\n",
    "\n",
    "\n",
    "#converting labels using one hot encoding\n",
    "Y_tr = np.zeros((len(train_values), 3)) \n",
    "for i in range(len(train_values)): \n",
    "    Y_tr[i, train_values[i]-1] = 1\n",
    "    \n",
    "Y_dev = np.zeros((len(dev_values), 3)) \n",
    "for i in range(len(dev_values)): \n",
    "    Y_dev[i, dev_values[i]-1] = 1\n",
    "    \n",
    "test_labels = np.zeros((len(test_values), 3)) \n",
    "for i in range(len(test_values)): \n",
    "    test_labels[i, test_values[i]-1] = 1"
   ]
  },
  {
   "cell_type": "code",
   "execution_count": 13,
   "metadata": {},
   "outputs": [],
   "source": [
    "#changing the range of labels from 1,2,3 to 0,1,3 to match with the predicted labels\n",
    "Y_te = [x-1 for x in test_values]"
   ]
  },
  {
   "cell_type": "markdown",
   "metadata": {},
   "source": [
    "# Network Architecture\n",
    "\n",
    "Your network should pass each word index into its corresponding embedding by looking-up on the embedding matrix and then compute the first hidden layer $\\mathbf{h}_1$:\n",
    "\n",
    "$$\\mathbf{h}_1 = \\frac{1}{|x|}\\sum_i W^e_i, i \\in x$$\n",
    "\n",
    "where $|x|$ is the number of words in the document and $W^e$ is an embedding matrix $|V|\\times d$, $|V|$ is the size of the vocabulary and $d$ the embedding size.\n",
    "\n",
    "Then $\\mathbf{h}_1$ should be passed through a ReLU activation function:\n",
    "\n",
    "$$\\mathbf{a}_1 = relu(\\mathbf{h}_1)$$\n",
    "\n",
    "Finally the hidden layer is passed to the output layer:\n",
    "\n",
    "\n",
    "$$\\mathbf{y} = \\text{softmax}(\\mathbf{a}_1W) $$ \n",
    "where $W$ is a matrix $d \\times |{\\cal Y}|$, $|{\\cal Y}|$ is the number of classes.\n",
    "\n",
    "During training, $\\mathbf{a}_1$ should be multiplied with a dropout mask vector (elementwise) for regularisation before it is passed to the output layer.\n",
    "\n",
    "You can extend to a deeper architecture by passing a hidden layer to another one:\n",
    "\n",
    "$$\\mathbf{h_i} = \\mathbf{a}_{i-1}W_i $$\n",
    "\n",
    "$$\\mathbf{a_i} = relu(\\mathbf{h_i}) $$\n",
    "\n"
   ]
  },
  {
   "cell_type": "markdown",
   "metadata": {},
   "source": [
    "# Network Training\n",
    "\n",
    "First we need to define the parameters of our network by initiliasing the weight matrices. For that purpose, you should implement the `network_weights` function that takes as input:\n",
    "\n",
    "- `vocab_size`: the size of the vocabulary\n",
    "- `embedding_dim`: the size of the word embeddings\n",
    "- `hidden_dim`: a list of the sizes of any subsequent hidden layers. Empty if there are no hidden layers between the average embedding and the output layer \n",
    "- `num_classes`: the number of the classes for the output layer\n",
    "\n",
    "and returns:\n",
    "\n",
    "- `W`: a dictionary mapping from layer index (e.g. 0 for the embedding matrix) to the corresponding weight matrix initialised with small random numbers (hint: use numpy.random.uniform with from -0.1 to 0.1)\n",
    "\n",
    "Make sure that the dimensionality of each weight matrix is compatible with the previous and next weight matrix, otherwise you won't be able to perform forward and backward passes. Consider also using np.float32 precision to save memory."
   ]
  },
  {
   "cell_type": "code",
   "execution_count": 14,
   "metadata": {
    "ExecuteTime": {
     "end_time": "2020-04-02T15:41:20.918617Z",
     "start_time": "2020-04-02T15:41:20.915597Z"
    },
    "scrolled": true
   },
   "outputs": [],
   "source": [
    "def network_weights(vocab_size=1000, embedding_dim=300, \n",
    "                    hidden_dim=[], num_classes=3, init_val = 0.5):\n",
    "    \n",
    "    W={}\n",
    "    \n",
    "    # when there is no hidden layer\n",
    "    if not hidden_dim:\n",
    "        hidden_dim.append(0)\n",
    "        \n",
    "    for i in range(hidden_dim[0]+2):\n",
    "        if i == 0:\n",
    "            W.update({i:np.float32(np.random.uniform(-0.1, 0.1, (vocab_size,embedding_dim))*(1/init_val))})\n",
    "        else:\n",
    "            W.update({i:np.float32(np.random.uniform(-0.1, 0.1, (embedding_dim,embedding_dim))*(1/init_val))})\n",
    "    \n",
    "    N = len(W)\n",
    "    #weights for output layer calculation\n",
    "    W[N-1] = np.float32(np.random.uniform(-0.1, 0.1, (embedding_dim,num_classes))*(1/init_val))\n",
    "    \n",
    "    \n",
    "    #W = {0:np.random.uniform(-0.1, 0.1, (vocab_size,embedding_dim))*init_val,\n",
    "    #     1:np.random.uniform(-0.1, 0.1, (embedding_dim,embedding_dim))*init_val,\n",
    "    #     2:np.random.uniform(-0.1, 0.1, (embedding_dim,num_classes))*init_val}\n",
    "\n",
    "    return W\n",
    "    "
   ]
  },
  {
   "cell_type": "code",
   "execution_count": 15,
   "metadata": {
    "ExecuteTime": {
     "end_time": "2020-04-02T14:26:48.636732Z",
     "start_time": "2020-04-02T14:26:48.634122Z"
    },
    "scrolled": true
   },
   "outputs": [],
   "source": [
    "W = network_weights(vocab_size=3,embedding_dim=4,hidden_dim=[2], num_classes=2)"
   ]
  },
  {
   "cell_type": "markdown",
   "metadata": {
    "ExecuteTime": {
     "end_time": "2020-04-01T10:31:57.970152Z",
     "start_time": "2020-04-01T10:31:57.966123Z"
    }
   },
   "source": [
    "Then you need to develop a `softmax` function (same as in Assignment 1) to be used in the output layer. \n",
    "\n",
    "It takes as input `z` (array of real numbers) and returns `sig` (the softmax of `z`)\n",
    "\n"
   ]
  },
  {
   "cell_type": "code",
   "execution_count": 16,
   "metadata": {},
   "outputs": [],
   "source": [
    "def softmax(z):\n",
    "    exp_scores = np.exp(z)\n",
    "    softmax = exp_scores / np.sum(exp_scores, keepdims=True)\n",
    "    return softmax\n",
    "\n"
   ]
  },
  {
   "cell_type": "markdown",
   "metadata": {},
   "source": [
    "Now you need to implement the categorical cross entropy loss by slightly modifying the function from Assignment 1 to depend only on the true label `y` and the class probabilities vector `y_preds`:\n"
   ]
  },
  {
   "cell_type": "code",
   "execution_count": 17,
   "metadata": {
    "ExecuteTime": {
     "end_time": "2020-04-02T14:26:51.360838Z",
     "start_time": "2020-04-02T14:26:51.356935Z"
    },
    "scrolled": true
   },
   "outputs": [],
   "source": [
    "def categorical_loss(y, y_preds):\n",
    "    \n",
    "    #l = -np.sum((y*np.log2(y_preds)+(1-y)*np.log2(1-y_preds)))\n",
    "    epsilon =1e-12  #small value to avoid instability\n",
    "    y_preds = np.clip(y_preds,epsilon,1.-epsilon)\n",
    "    y_preds_shape = y_preds.shape[0]\n",
    "    l = -np.sum(y*np.log(y_preds+1e-9))/y_preds_shape    \n",
    "    \n",
    "    return l"
   ]
  },
  {
   "cell_type": "markdown",
   "metadata": {
    "ExecuteTime": {
     "end_time": "2020-03-31T15:02:56.149535Z",
     "start_time": "2020-03-31T15:02:56.145738Z"
    }
   },
   "source": [
    "Then, implement the `relu` function to introduce non-linearity after each hidden layer of your network \n",
    "(during the forward pass): \n",
    "\n",
    "$$relu(z_i)= max(z_i,0)$$\n",
    "\n",
    "and the `relu_derivative` function to compute its derivative (used in the backward pass):\n",
    "\n",
    "  \n",
    "  relu_derivative($z_i$)=0, if $z_i$<=0, 1 otherwise.\n",
    "  \n",
    "\n",
    "\n",
    "Note that both functions take as input a vector $z$ \n",
    "\n",
    "Hint use .copy() to avoid in place changes in array z"
   ]
  },
  {
   "cell_type": "code",
   "execution_count": 18,
   "metadata": {
    "ExecuteTime": {
     "end_time": "2020-04-02T14:26:52.665236Z",
     "start_time": "2020-04-02T14:26:52.661519Z"
    },
    "scrolled": true
   },
   "outputs": [],
   "source": [
    "def relu(z):\n",
    "    \n",
    "    a = np.where(z>0,z,0)\n",
    "    \n",
    "    return a\n",
    "    \n",
    "def relu_derivative(z):\n",
    "    \n",
    "    dz = np.where(z<=0,0,1)\n",
    "    \n",
    "    return dz"
   ]
  },
  {
   "cell_type": "markdown",
   "metadata": {},
   "source": [
    "During training you should also apply a dropout mask element-wise after the activation function (i.e. vector of ones with a random percentage set to zero). The `dropout_mask` function takes as input:\n",
    "\n",
    "- `size`: the size of the vector that we want to apply dropout\n",
    "- `dropout_rate`: the percentage of elements that will be randomly set to zeros\n",
    "\n",
    "and returns:\n",
    "\n",
    "- `dropout_vec`: a vector with binary values (0 or 1)"
   ]
  },
  {
   "cell_type": "code",
   "execution_count": 19,
   "metadata": {
    "ExecuteTime": {
     "end_time": "2020-04-02T14:26:53.429192Z",
     "start_time": "2020-04-02T14:26:53.425301Z"
    },
    "scrolled": true
   },
   "outputs": [],
   "source": [
    "def dropout_mask(size, dropout_rate):\n",
    "    \n",
    "    \n",
    "    n_zeros = size*dropout_rate\n",
    "    dropout_vec = list(map(float,(np.array([1] * (size-int(n_zeros)) + [0] * (int(n_zeros))))))\n",
    "    random.shuffle(dropout_vec)\n",
    "    \n",
    "    \n",
    "    return dropout_vec\n",
    "    \n",
    "    "
   ]
  },
  {
   "cell_type": "code",
   "execution_count": 20,
   "metadata": {
    "ExecuteTime": {
     "end_time": "2020-04-02T14:26:53.853632Z",
     "start_time": "2020-04-02T14:26:53.849944Z"
    },
    "scrolled": true
   },
   "outputs": [
    {
     "name": "stdout",
     "output_type": "stream",
     "text": [
      "[0.0, 0.0, 1.0, 0.0, 1.0, 1.0, 1.0, 1.0, 1.0, 1.0]\n"
     ]
    }
   ],
   "source": [
    "print(dropout_mask(10, 0.3))\n"
   ]
  },
  {
   "cell_type": "markdown",
   "metadata": {},
   "source": [
    "Now you need to implement the `forward_pass` function that passes the input x through the network up to the output layer for computing the probability for each class using the weight matrices in `W`. The ReLU activation function should be applied on each hidden layer. \n",
    "\n",
    "- `x`: a list of vocabulary indices each corresponding to a word in the document (input)\n",
    "- `W`: a list of weight matrices connecting each part of the network, e.g. for a network with a hidden and an output layer: W[0] is the weight matrix that connects the input to the first hidden layer, W[1] is the weight matrix that connects the hidden layer to the output layer.\n",
    "- `dropout_rate`: the dropout rate that is used to generate a random dropout mask vector applied after each hidden layer for regularisation.\n",
    "\n",
    "and returns:\n",
    "\n",
    "- `out_vals`: a dictionary of output values from each layer: h (the vector before the activation function), a (the resulting vector after passing h from the activation function), its dropout mask vector; and the prediction vector (probability for each class) from the output layer."
   ]
  },
  {
   "cell_type": "code",
   "execution_count": 21,
   "metadata": {
    "ExecuteTime": {
     "end_time": "2020-04-02T14:26:54.761268Z",
     "start_time": "2020-04-02T14:26:54.753402Z"
    },
    "scrolled": true
   },
   "outputs": [],
   "source": [
    "def forward_pass(x, W, dropout_rate=0.2):\n",
    "    \n",
    "    \n",
    "    out_vals = {}\n",
    "    \n",
    "    h_vecs = []\n",
    "    a_vecs = []\n",
    "    dropout_vecs = []\n",
    "    \n",
    "    #Looking up the weight matrix for indices in the vocabulary\n",
    "    n = W[0].shape[1]\n",
    "    h_vecs.append((np.sum(W[0][x,:],axis=0)*1/len(x)).reshape(1,n))     \n",
    "    \n",
    "    #computing output_vals\n",
    "    for i in range(1,len(W)-1):\n",
    "        h_vecs.append(h_vecs[i-1].dot(W[i]))\n",
    "        a_vecs.append(relu(h_vecs[i]))\n",
    "        dropout_vecs.append(dropout_mask(len(a_vecs[i-1]), dropout_rate)*a_vecs[i-1])\n",
    "        #a_vecs[i-1] = dropout_vecs[i-1]*a_vecs[i-1]\n",
    "        \n",
    "    \n",
    "    #h_vecs.append(np.dot(h_vecs[0] , W[1]))\n",
    "    #a_vecs.append(relu(h_vecs[1]))\n",
    "    #dropout_vecs.append((dropout_mask(len(a_vecs[0]), dropout_rate))*a_vecs[0])\n",
    "    \n",
    "    #output layer\n",
    "    h_vecs.append(h_vecs[-1].dot(W[len(W)-1]))\n",
    "    a_vecs.append(softmax(h_vecs[-1]))\n",
    "    dropout_vecs.append(a_vecs[-1])\n",
    "    \n",
    "    out_vals = {\"H\": h_vecs,\n",
    "                \"A\": a_vecs ,\n",
    "                \"D\": dropout_vecs,\n",
    "                \"y\": softmax(h_vecs[-1][0])}\n",
    "    \n",
    "    return out_vals\n",
    "    "
   ]
  },
  {
   "cell_type": "markdown",
   "metadata": {},
   "source": [
    "The `backward_pass` function computes the gradients and updates the weights for each matrix in the network from the output to the input. It takes as input \n",
    "\n",
    "- `x`: a list of vocabulary indices each corresponding to a word in the document (input)\n",
    "- `y`: the true label\n",
    "- `W`: a list of weight matrices connecting each part of the network, e.g. for a network with a hidden and an output layer: W[0] is the weight matrix that connects the input to the first hidden layer, W[1] is the weight matrix that connects the hidden layer to the output layer.\n",
    "- `out_vals`: a dictionary of output values from a forward pass.\n",
    "- `learning_rate`: the learning rate for updating the weights.\n",
    "- `freeze_emb`: boolean value indicating whether the embedding weights will be updated.\n",
    "\n",
    "and returns:\n",
    "\n",
    "- `W`: the updated weights of the network.\n",
    "\n",
    "Hint: the gradients on the output layer are similar to the multiclass logistic regression."
   ]
  },
  {
   "cell_type": "code",
   "execution_count": 22,
   "metadata": {},
   "outputs": [],
   "source": [
    "def backward_pass(x, y, W, out_vals, lr=0.01, freeze_emb=False):\n",
    "\n",
    "    for i in range(len(W),0,-1):         \n",
    "        if i == len(W):            \n",
    "            prev_error = out_vals['y'] - y  #actual error            \n",
    "        else:\n",
    "                error  = prev_error * relu_derivative(out_vals['D'][i-1])\n",
    "                grad = out_vals['H'][i-1].T.dot(error)\n",
    "                prev_error = error.dot(W[i].T)\n",
    "                W[i] -=  lr*grad\n",
    "    \n",
    "    #updating weights for emebedding matrix\n",
    "    if freeze_emb == True:\n",
    "        error = prev_error * relu_derivative(out_vals['H'][0])\n",
    "        grad  = W[0][x,:].T.dot(error)\n",
    "        W[0]  -= lr*grad\n",
    "        \n",
    "    \n",
    "    \n",
    "    #output_error = out_vals['Output'] - y\n",
    "    \n",
    "    #output_grad = output_error * relu_derivative(out_vals['D'][1])\n",
    "    ##output_grad = output_error * relu_derivative(out_vals['A'][1])\n",
    "    \n",
    "    #a1_error = np.dot(output_grad,W[2].T)\n",
    "    #a1_grad = a1_error * relu_derivative(out_vals['D'][0])\n",
    "    ##a1_grad = a1_error * relu_derivative(out_vals['A'][0])\n",
    "    \n",
    "    #W[1] -= np.dot(out_vals['H'][0].T,a1_grad) *lr\n",
    "    #W[2] -= np.dot(out_vals['H'][1].T,output_grad)*lr\n",
    "    \n",
    "    \n",
    "    return W\n",
    "\n",
    "\n"
   ]
  },
  {
   "cell_type": "markdown",
   "metadata": {
    "ExecuteTime": {
     "end_time": "2020-02-15T14:08:59.937442Z",
     "start_time": "2020-02-15T14:08:59.932221Z"
    }
   },
   "source": [
    "Finally you need to modify SGD to support back-propagation by using the `forward_pass` and `backward_pass` functions.\n",
    "\n",
    "The `SGD` function takes as input:\n",
    "\n",
    "- `X_tr`: array of training data (vectors)\n",
    "- `Y_tr`: labels of `X_tr`\n",
    "- `W`: the weights of the network (dictionary)\n",
    "- `X_dev`: array of development (i.e. validation) data (vectors)\n",
    "- `Y_dev`: labels of `X_dev`\n",
    "- `lr`: learning rate\n",
    "- `dropout`: regularisation strength\n",
    "- `epochs`: number of full passes over the training data\n",
    "- `tolerance`: stop training if the difference between the current and previous validation loss is smaller than a threshold\n",
    "- `freeze_emb`: boolean value indicating whether the embedding weights will be updated (to be used by the backward pass function).\n",
    "- `print_progress`: flag for printing the training progress (train/validation loss)\n",
    "\n",
    "\n",
    "and returns:\n",
    "\n",
    "- `weights`: the weights learned\n",
    "- `training_loss_history`: an array with the average losses of the whole training set after each epoch\n",
    "- `validation_loss_history`: an array with the average losses of the whole development set after each epoch"
   ]
  },
  {
   "cell_type": "code",
   "execution_count": 23,
   "metadata": {
    "ExecuteTime": {
     "end_time": "2020-04-02T15:09:19.021428Z",
     "start_time": "2020-04-02T15:09:19.017835Z"
    },
    "scrolled": true
   },
   "outputs": [],
   "source": [
    "def SGD(X_tr, Y_tr, W, X_dev=[], Y_dev=[], lr=0.001, \n",
    "        dropout=0.2, epochs=5, tolerance=0.001, freeze_emb=False, \n",
    "        print_progress=True):\n",
    "    \n",
    "    \n",
    "    training_loss_history = []\n",
    "    validation_loss_history = []\n",
    "    num_instances_tr = len(X_tr)\n",
    "    num_instances_dev = len(X_dev)\n",
    "    \n",
    "    print(\"Training started:\")\n",
    "    for e in range(epochs):\n",
    "        \n",
    "        indices_tr = np.random.permutation(num_instances_tr)\n",
    "        indices_dev = np.random.permutation(num_instances_dev)\n",
    "        \n",
    "        loss_tr = 0\n",
    "        for i in indices_tr:   \n",
    "            X_i = X_tr[i]\n",
    "            y_i = Y_tr[i]   \n",
    "            out_vals = forward_pass(X_i, W, dropout)\n",
    "            loss_tr += categorical_loss(y_i,out_vals['y'])\n",
    "            W = backward_pass(X_i, y_i, W, out_vals, lr, freeze_emb=False)\n",
    "        print(\"Epoch: %d, Training Loss: %.7f\" %(e, loss_tr/num_instances_tr))\n",
    "        training_loss_history.append(loss_tr/num_instances_tr)\n",
    "        \n",
    "        loss_dev = 0\n",
    "        for i in indices_dev:   \n",
    "            X_i = X_dev[i]\n",
    "            y_i = Y_dev[i]   \n",
    "            out_vals = forward_pass(X_i, W, dropout)\n",
    "            loss_dev += categorical_loss(y_i,out_vals['y'])\n",
    "            W = backward_pass(X_i, y_i, W, out_vals, lr, freeze_emb=False)\n",
    "        print(\"Epoch: %d, Validation Loss: %.7f\" %(e, loss_dev/num_instances_dev))\n",
    "        validation_loss_history.append(loss_dev/num_instances_dev)\n",
    "        if e > 0 and (validation_loss_history[e-1]-validation_loss_history[e]) <= tolerance:\n",
    "            print(\"Training complete before all iterations were done\")\n",
    "            break           \n",
    "\n",
    "    \n",
    "    \n",
    "    return W, training_loss_history, validation_loss_history"
   ]
  },
  {
   "cell_type": "markdown",
   "metadata": {
    "ExecuteTime": {
     "end_time": "2020-02-15T14:10:15.772383Z",
     "start_time": "2020-02-15T14:10:15.767855Z"
    }
   },
   "source": [
    "Now you are ready to train and evaluate your neural net. First, you need to define your network using the `network_weights` function followed by SGD with backprop:"
   ]
  },
  {
   "cell_type": "code",
   "execution_count": 24,
   "metadata": {
    "ExecuteTime": {
     "end_time": "2020-04-02T15:09:33.643515Z",
     "start_time": "2020-04-02T15:09:33.640943Z"
    },
    "scrolled": true
   },
   "outputs": [
    {
     "name": "stdout",
     "output_type": "stream",
     "text": [
      "Shape W0 (1999, 500)\n",
      "Shape W1 (500, 500)\n",
      "Shape W2 (500, 3)\n",
      "Training started:\n",
      "Epoch: 0, Training Loss: 0.3582619\n",
      "Epoch: 0, Validation Loss: 0.3523819\n",
      "Epoch: 1, Training Loss: 0.3436302\n",
      "Epoch: 1, Validation Loss: 0.3401038\n",
      "Epoch: 2, Training Loss: 0.3303590\n",
      "Epoch: 2, Validation Loss: 0.3287355\n",
      "Epoch: 3, Training Loss: 0.3182052\n",
      "Epoch: 3, Validation Loss: 0.3181117\n",
      "Epoch: 4, Training Loss: 0.3070073\n",
      "Epoch: 4, Validation Loss: 0.3081405\n",
      "Epoch: 5, Training Loss: 0.2966382\n",
      "Epoch: 5, Validation Loss: 0.2987410\n",
      "Epoch: 6, Training Loss: 0.2870007\n",
      "Epoch: 6, Validation Loss: 0.2898512\n"
     ]
    },
    {
     "ename": "KeyboardInterrupt",
     "evalue": "",
     "output_type": "error",
     "traceback": [
      "\u001b[1;31m---------------------------------------------------------------------------\u001b[0m",
      "\u001b[1;31mKeyboardInterrupt\u001b[0m                         Traceback (most recent call last)",
      "\u001b[1;32m<ipython-input-24-7bebdfd9b2de>\u001b[0m in \u001b[0;36m<module>\u001b[1;34m\u001b[0m\n\u001b[0;32m      5\u001b[0m     \u001b[0mprint\u001b[0m\u001b[1;33m(\u001b[0m\u001b[1;34m'Shape W'\u001b[0m\u001b[1;33m+\u001b[0m\u001b[0mstr\u001b[0m\u001b[1;33m(\u001b[0m\u001b[0mi\u001b[0m\u001b[1;33m)\u001b[0m\u001b[1;33m,\u001b[0m \u001b[0mW\u001b[0m\u001b[1;33m[\u001b[0m\u001b[0mi\u001b[0m\u001b[1;33m]\u001b[0m\u001b[1;33m.\u001b[0m\u001b[0mshape\u001b[0m\u001b[1;33m)\u001b[0m\u001b[1;33m\u001b[0m\u001b[1;33m\u001b[0m\u001b[0m\n\u001b[0;32m      6\u001b[0m \u001b[1;33m\u001b[0m\u001b[0m\n\u001b[1;32m----> 7\u001b[1;33m W, loss_tr, dev_loss = SGD(X_tr, Y_tr,\n\u001b[0m\u001b[0;32m      8\u001b[0m                             \u001b[0mW\u001b[0m\u001b[1;33m,\u001b[0m\u001b[1;33m\u001b[0m\u001b[1;33m\u001b[0m\u001b[0m\n\u001b[0;32m      9\u001b[0m                             \u001b[0mX_dev\u001b[0m\u001b[1;33m,\u001b[0m\u001b[1;33m\u001b[0m\u001b[1;33m\u001b[0m\u001b[0m\n",
      "\u001b[1;32m<ipython-input-23-96cec5e93a45>\u001b[0m in \u001b[0;36mSGD\u001b[1;34m(X_tr, Y_tr, W, X_dev, Y_dev, lr, dropout, epochs, tolerance, freeze_emb, print_progress)\u001b[0m\n\u001b[0;32m     21\u001b[0m             \u001b[0mout_vals\u001b[0m \u001b[1;33m=\u001b[0m \u001b[0mforward_pass\u001b[0m\u001b[1;33m(\u001b[0m\u001b[0mX_i\u001b[0m\u001b[1;33m,\u001b[0m \u001b[0mW\u001b[0m\u001b[1;33m,\u001b[0m \u001b[0mdropout\u001b[0m\u001b[1;33m)\u001b[0m\u001b[1;33m\u001b[0m\u001b[1;33m\u001b[0m\u001b[0m\n\u001b[0;32m     22\u001b[0m             \u001b[0mloss_tr\u001b[0m \u001b[1;33m+=\u001b[0m \u001b[0mcategorical_loss\u001b[0m\u001b[1;33m(\u001b[0m\u001b[0my_i\u001b[0m\u001b[1;33m,\u001b[0m\u001b[0mout_vals\u001b[0m\u001b[1;33m[\u001b[0m\u001b[1;34m'y'\u001b[0m\u001b[1;33m]\u001b[0m\u001b[1;33m)\u001b[0m\u001b[1;33m\u001b[0m\u001b[1;33m\u001b[0m\u001b[0m\n\u001b[1;32m---> 23\u001b[1;33m             \u001b[0mW\u001b[0m \u001b[1;33m=\u001b[0m \u001b[0mbackward_pass\u001b[0m\u001b[1;33m(\u001b[0m\u001b[0mX_i\u001b[0m\u001b[1;33m,\u001b[0m \u001b[0my_i\u001b[0m\u001b[1;33m,\u001b[0m \u001b[0mW\u001b[0m\u001b[1;33m,\u001b[0m \u001b[0mout_vals\u001b[0m\u001b[1;33m,\u001b[0m \u001b[0mlr\u001b[0m\u001b[1;33m,\u001b[0m \u001b[0mfreeze_emb\u001b[0m\u001b[1;33m=\u001b[0m\u001b[1;32mFalse\u001b[0m\u001b[1;33m)\u001b[0m\u001b[1;33m\u001b[0m\u001b[1;33m\u001b[0m\u001b[0m\n\u001b[0m\u001b[0;32m     24\u001b[0m         \u001b[0mprint\u001b[0m\u001b[1;33m(\u001b[0m\u001b[1;34m\"Epoch: %d, Training Loss: %.7f\"\u001b[0m \u001b[1;33m%\u001b[0m\u001b[1;33m(\u001b[0m\u001b[0me\u001b[0m\u001b[1;33m,\u001b[0m \u001b[0mloss_tr\u001b[0m\u001b[1;33m/\u001b[0m\u001b[0mnum_instances_tr\u001b[0m\u001b[1;33m)\u001b[0m\u001b[1;33m)\u001b[0m\u001b[1;33m\u001b[0m\u001b[1;33m\u001b[0m\u001b[0m\n\u001b[0;32m     25\u001b[0m         \u001b[0mtraining_loss_history\u001b[0m\u001b[1;33m.\u001b[0m\u001b[0mappend\u001b[0m\u001b[1;33m(\u001b[0m\u001b[0mloss_tr\u001b[0m\u001b[1;33m/\u001b[0m\u001b[0mnum_instances_tr\u001b[0m\u001b[1;33m)\u001b[0m\u001b[1;33m\u001b[0m\u001b[1;33m\u001b[0m\u001b[0m\n",
      "\u001b[1;32m<ipython-input-22-02b6f3e6e49f>\u001b[0m in \u001b[0;36mbackward_pass\u001b[1;34m(x, y, W, out_vals, lr, freeze_emb)\u001b[0m\n\u001b[0;32m      7\u001b[0m                 \u001b[0merror\u001b[0m  \u001b[1;33m=\u001b[0m \u001b[0mprev_error\u001b[0m \u001b[1;33m*\u001b[0m \u001b[0mrelu_derivative\u001b[0m\u001b[1;33m(\u001b[0m\u001b[0mout_vals\u001b[0m\u001b[1;33m[\u001b[0m\u001b[1;34m'D'\u001b[0m\u001b[1;33m]\u001b[0m\u001b[1;33m[\u001b[0m\u001b[0mi\u001b[0m\u001b[1;33m-\u001b[0m\u001b[1;36m1\u001b[0m\u001b[1;33m]\u001b[0m\u001b[1;33m)\u001b[0m\u001b[1;33m\u001b[0m\u001b[1;33m\u001b[0m\u001b[0m\n\u001b[0;32m      8\u001b[0m                 \u001b[0mgrad\u001b[0m \u001b[1;33m=\u001b[0m \u001b[0mout_vals\u001b[0m\u001b[1;33m[\u001b[0m\u001b[1;34m'H'\u001b[0m\u001b[1;33m]\u001b[0m\u001b[1;33m[\u001b[0m\u001b[0mi\u001b[0m\u001b[1;33m-\u001b[0m\u001b[1;36m1\u001b[0m\u001b[1;33m]\u001b[0m\u001b[1;33m.\u001b[0m\u001b[0mT\u001b[0m\u001b[1;33m.\u001b[0m\u001b[0mdot\u001b[0m\u001b[1;33m(\u001b[0m\u001b[0merror\u001b[0m\u001b[1;33m)\u001b[0m\u001b[1;33m\u001b[0m\u001b[1;33m\u001b[0m\u001b[0m\n\u001b[1;32m----> 9\u001b[1;33m                 \u001b[0mprev_error\u001b[0m \u001b[1;33m=\u001b[0m \u001b[0merror\u001b[0m\u001b[1;33m.\u001b[0m\u001b[0mdot\u001b[0m\u001b[1;33m(\u001b[0m\u001b[0mW\u001b[0m\u001b[1;33m[\u001b[0m\u001b[0mi\u001b[0m\u001b[1;33m]\u001b[0m\u001b[1;33m.\u001b[0m\u001b[0mT\u001b[0m\u001b[1;33m)\u001b[0m\u001b[1;33m\u001b[0m\u001b[1;33m\u001b[0m\u001b[0m\n\u001b[0m\u001b[0;32m     10\u001b[0m                 \u001b[0mW\u001b[0m\u001b[1;33m[\u001b[0m\u001b[0mi\u001b[0m\u001b[1;33m]\u001b[0m \u001b[1;33m-=\u001b[0m  \u001b[0mlr\u001b[0m\u001b[1;33m*\u001b[0m\u001b[0mgrad\u001b[0m\u001b[1;33m\u001b[0m\u001b[1;33m\u001b[0m\u001b[0m\n\u001b[0;32m     11\u001b[0m \u001b[1;33m\u001b[0m\u001b[0m\n",
      "\u001b[1;31mKeyboardInterrupt\u001b[0m: "
     ]
    }
   ],
   "source": [
    "W = network_weights(vocab_size=len(vocab),embedding_dim=500,\n",
    "                    hidden_dim=[1], num_classes=3)\n",
    "\n",
    "for i in range(len(W)):\n",
    "    print('Shape W'+str(i), W[i].shape)\n",
    "\n",
    "W, loss_tr, dev_loss = SGD(X_tr, Y_tr,\n",
    "                            W,\n",
    "                            X_dev, \n",
    "                            Y_dev,\n",
    "                            lr=0.001, \n",
    "                            dropout=0.2,\n",
    "                            freeze_emb=False,\n",
    "                            tolerance=0.001,\n",
    "                            epochs=100)\n"
   ]
  },
  {
   "cell_type": "markdown",
   "metadata": {},
   "source": [
    "Plot the learning process:"
   ]
  },
  {
   "cell_type": "code",
   "execution_count": 108,
   "metadata": {},
   "outputs": [
    {
     "data": {
      "image/png": "[encoded data removed]",
      "text/plain": [
       "<Figure size 432x288 with 1 Axes>"
      ]
     },
     "metadata": {
      "needs_background": "light"
     },
     "output_type": "display_data"
    }
   ],
   "source": [
    "fig, ax = plt.subplots() \n",
    "ax.plot(range(len(loss_tr)),loss_tr, label=\"train\")\n",
    "ax.plot(range(len(dev_loss)),dev_loss,label=\"val\")\n",
    "ax.set(xlabel=\"Epochs\",ylabel=\"loss\",title=\"Loss History\")\n",
    "ax.grid()\n",
    "plt.legend([\"train\",\"val\"], loc=\"upper right\")           \n",
    "plt.show()"
   ]
  },
  {
   "cell_type": "markdown",
   "metadata": {},
   "source": [
    "Compute accuracy, precision, recall and F1-Score:"
   ]
  },
  {
   "cell_type": "code",
   "execution_count": 109,
   "metadata": {
    "ExecuteTime": {
     "end_time": "2020-04-02T15:10:11.037495Z",
     "start_time": "2020-04-02T15:10:11.034999Z"
    },
    "scrolled": false
   },
   "outputs": [
    {
     "name": "stdout",
     "output_type": "stream",
     "text": [
      "Precision: 0.7683480460115697\n",
      "Recall: 0.7688888888888888\n",
      "F1-Score: 0.7677538217703616\n",
      "Accuracy: 0.7688888888888888\n"
     ]
    },
    {
     "name": "stderr",
     "output_type": "stream",
     "text": [
      "<ipython-input-39-c4db2328e62e>:12: RuntimeWarning: invalid value encountered in true_divide\n",
      "  h_vecs.append((np.sum(W[0][x,:],axis=0)*1/len(x)).reshape(1,n))\n"
     ]
    }
   ],
   "source": [
    "preds_te = [np.argmax(forward_pass(x, W, dropout_rate=0.0)['y'])\n",
    "            for x,y in zip(X_te,Y_te)]\n",
    "           \n",
    "print('Precision:', precision_score(Y_te,preds_te,average='macro'))\n",
    "print('Recall:', recall_score(Y_te,preds_te,average='macro'))\n",
    "print('F1-Score:', f1_score(Y_te,preds_te,average='macro'))\n",
    "print('Accuracy:', accuracy_score(Y_te,preds_te))"
   ]
  },
  {
   "cell_type": "code",
   "execution_count": 58,
   "metadata": {},
   "outputs": [
    {
     "data": {
      "text/plain": [
       "3009"
      ]
     },
     "execution_count": 58,
     "metadata": {},
     "output_type": "execute_result"
    }
   ],
   "source": [
    "del W\n",
    "gc.collect()"
   ]
  },
  {
   "cell_type": "markdown",
   "metadata": {},
   "source": [
    "### Discuss how did you choose model hyperparameters ? "
   ]
  },
  {
   "cell_type": "markdown",
   "metadata": {
    "scrolled": true
   },
   "source": [
    "| Parameters | Precision  | Recall  | F1-Score  | Accuracy\n",
    "|:-:|:-:|:-:|:-:|:-:|\n",
    "| lr=0.001, dropout=0.2,tolerance=0.001,embedding=100  | 0.3782  | 0.3744   | 0.3702   | 0.3744   |\n",
    "| lr=0.001, dropout=0.1,tolerance=0.001,embedding=500  | 0.7817   | 0.7811   | 0.7803    | 0.7811    |\n",
    "| lr=0.01, dropout=0.1,tolerance=0.001,embedding=400   | 0.7582   | 0.7577    | 0.7572   | 0.7577   |\n",
    "| lr=0.0001, dropout=0.1,tolerance=0.0001,embedding=400    | 0.6975   | 0.6955   | 0.6934   | 0.6955   |\n",
    "| lr=0.001, dropout=0.2,tolerance=0.001,embedding=500    | 0.7920    | 0.7888    | 0.7882    | 0.7888   |\n",
    "\n"
   ]
  },
  {
   "cell_type": "markdown",
   "metadata": {},
   "source": [
    "lr=0.001, dropout=0.2,tolerance=0.001,embedding=500 \n",
    "\n",
    "The above combination of the parameters have been chosen because:\n",
    "- They give higher F-1 score and the learning curve for both train and dev appear to be almost converging\n",
    "- Keeping the learning rate low has been beneficial in getting a better model in a way that with 100 epochs the model has been steadily able to reduce the losses for both train and dev data.\n",
    "- Increasing the embedding size and regularisation(droupout) has also resulted in higher accuracy and an overall better model"
   ]
  },
  {
   "cell_type": "markdown",
   "metadata": {},
   "source": [
    "# Use Pre-trained Embeddings\n",
    "\n",
    "Now re-train the network using GloVe pre-trained embeddings. You need to modify the `backward_pass` function above to stop computing gradients and updating weights of the embedding matrix.\n",
    "\n",
    "Use the function below to obtain the embedding martix for your vocabulary. Generally, that should work without any problem. If you get errors, you can modify it."
   ]
  },
  {
   "cell_type": "code",
   "execution_count": 25,
   "metadata": {
    "ExecuteTime": {
     "end_time": "2020-04-02T14:27:32.020697Z",
     "start_time": "2020-04-02T14:27:32.015733Z"
    },
    "scrolled": true
   },
   "outputs": [],
   "source": [
    "def get_glove_embeddings(f_zip, f_txt, word2id, emb_size=300):\n",
    "    \n",
    "    w_emb = np.zeros((len(word2id), emb_size))\n",
    "    \n",
    "    with zipfile.ZipFile(f_zip) as z:\n",
    "        with z.open(f_txt) as f:\n",
    "            for line in f:\n",
    "                line = line.decode('utf-8')\n",
    "                word = line.split()[0]\n",
    "                     \n",
    "                if word in vocab:\n",
    "                    emb = np.array(line.strip('\\n').split()[1:]).astype(np.float32)\n",
    "                    w_emb[word2id[word]] +=emb\n",
    "    return w_emb"
   ]
  },
  {
   "cell_type": "code",
   "execution_count": 26,
   "metadata": {
    "ExecuteTime": {
     "end_time": "2020-04-02T14:28:54.548613Z",
     "start_time": "2020-04-02T14:27:32.780248Z"
    },
    "scrolled": true
   },
   "outputs": [],
   "source": [
    "w_glove = get_glove_embeddings(\"glove.840B.300d.zip\",\"glove.840B.300d.txt\",word_vocabid_dict)"
   ]
  },
  {
   "cell_type": "markdown",
   "metadata": {},
   "source": [
    "First, initialise the weights of your network using the `network_weights` function. Second, replace the weigths of the embedding matrix with `w_glove`. Finally, train the network by freezing the embedding weights: "
   ]
  },
  {
   "cell_type": "code",
   "execution_count": 27,
   "metadata": {
    "ExecuteTime": {
     "end_time": "2020-04-02T14:30:11.121198Z",
     "start_time": "2020-04-02T14:29:24.946124Z"
    },
    "scrolled": true
   },
   "outputs": [
    {
     "name": "stdout",
     "output_type": "stream",
     "text": [
      "Training started:\n",
      "Epoch: 0, Training Loss: 0.3605096\n",
      "Epoch: 0, Validation Loss: 0.3487573\n",
      "Epoch: 1, Training Loss: 0.2939935\n",
      "Epoch: 1, Validation Loss: 0.2922266\n",
      "Epoch: 2, Training Loss: 0.2512571\n",
      "Epoch: 2, Validation Loss: 0.2533428\n",
      "Epoch: 3, Training Loss: 0.2224564\n",
      "Epoch: 3, Validation Loss: 0.2257874\n",
      "Epoch: 4, Training Loss: 0.2022797\n",
      "Epoch: 4, Validation Loss: 0.2052170\n",
      "Epoch: 5, Training Loss: 0.1876742\n",
      "Epoch: 5, Validation Loss: 0.1896839\n",
      "Epoch: 6, Training Loss: 0.1766718\n",
      "Epoch: 6, Validation Loss: 0.1770388\n",
      "Epoch: 7, Training Loss: 0.1680934\n",
      "Epoch: 7, Validation Loss: 0.1674262\n",
      "Epoch: 8, Training Loss: 0.1613169\n",
      "Epoch: 8, Validation Loss: 0.1588052\n",
      "Epoch: 9, Training Loss: 0.1558293\n",
      "Epoch: 9, Validation Loss: 0.1520326\n",
      "Epoch: 10, Training Loss: 0.1512520\n",
      "Epoch: 10, Validation Loss: 0.1462639\n",
      "Epoch: 11, Training Loss: 0.1474611\n",
      "Epoch: 11, Validation Loss: 0.1408007\n",
      "Epoch: 12, Training Loss: 0.1442519\n",
      "Epoch: 12, Validation Loss: 0.1364323\n",
      "Epoch: 13, Training Loss: 0.1414384\n",
      "Epoch: 13, Validation Loss: 0.1329962\n",
      "Epoch: 14, Training Loss: 0.1389788\n",
      "Epoch: 14, Validation Loss: 0.1296225\n",
      "Epoch: 15, Training Loss: 0.1368771\n",
      "Epoch: 15, Validation Loss: 0.1265993\n",
      "Epoch: 16, Training Loss: 0.1349907\n",
      "Epoch: 16, Validation Loss: 0.1236779\n",
      "Epoch: 17, Training Loss: 0.1333055\n",
      "Epoch: 17, Validation Loss: 0.1206267\n",
      "Epoch: 18, Training Loss: 0.1317927\n",
      "Epoch: 18, Validation Loss: 0.1187693\n",
      "Epoch: 19, Training Loss: 0.1304241\n",
      "Epoch: 19, Validation Loss: 0.1162108\n",
      "Epoch: 20, Training Loss: 0.1292559\n",
      "Epoch: 20, Validation Loss: 0.1148428\n",
      "Epoch: 21, Training Loss: 0.1280932\n",
      "Epoch: 21, Validation Loss: 0.1126976\n",
      "Epoch: 22, Training Loss: 0.1270729\n",
      "Epoch: 22, Validation Loss: 0.1112866\n",
      "Epoch: 23, Training Loss: 0.1260964\n",
      "Epoch: 23, Validation Loss: 0.1099118\n",
      "Epoch: 24, Training Loss: 0.1252250\n",
      "Epoch: 24, Validation Loss: 0.1086073\n",
      "Epoch: 25, Training Loss: 0.1243901\n",
      "Epoch: 25, Validation Loss: 0.1065675\n",
      "Epoch: 26, Training Loss: 0.1236668\n",
      "Epoch: 26, Validation Loss: 0.1054848\n",
      "Epoch: 27, Training Loss: 0.1229502\n",
      "Epoch: 27, Validation Loss: 0.1042688\n",
      "Epoch: 28, Training Loss: 0.1222799\n",
      "Epoch: 28, Validation Loss: 0.1029905\n",
      "Epoch: 29, Training Loss: 0.1216369\n",
      "Epoch: 29, Validation Loss: 0.1025369\n",
      "Epoch: 30, Training Loss: 0.1209816\n",
      "Epoch: 30, Validation Loss: 0.1012922\n",
      "Epoch: 31, Training Loss: 0.1204640\n",
      "Epoch: 31, Validation Loss: 0.1004393\n",
      "Epoch: 32, Training Loss: 0.1198590\n",
      "Epoch: 32, Validation Loss: 0.0995955\n",
      "Epoch: 33, Training Loss: 0.1193865\n",
      "Epoch: 33, Validation Loss: 0.0983351\n",
      "Epoch: 34, Training Loss: 0.1189376\n",
      "Epoch: 34, Validation Loss: 0.0978699\n",
      "Epoch: 35, Training Loss: 0.1184366\n",
      "Epoch: 35, Validation Loss: 0.0972866\n",
      "Epoch: 36, Training Loss: 0.1179809\n",
      "Epoch: 36, Validation Loss: 0.0961713\n",
      "Epoch: 37, Training Loss: 0.1175708\n",
      "Epoch: 37, Validation Loss: 0.0957749\n",
      "Epoch: 38, Training Loss: 0.1170815\n",
      "Epoch: 38, Validation Loss: 0.0947037\n",
      "Epoch: 39, Training Loss: 0.1167470\n",
      "Epoch: 39, Validation Loss: 0.0945175\n",
      "Epoch: 40, Training Loss: 0.1163398\n",
      "Epoch: 40, Validation Loss: 0.0939955\n",
      "Epoch: 41, Training Loss: 0.1159697\n",
      "Epoch: 41, Validation Loss: 0.0933473\n",
      "Epoch: 42, Training Loss: 0.1156098\n",
      "Epoch: 42, Validation Loss: 0.0924295\n",
      "Epoch: 43, Training Loss: 0.1152682\n",
      "Epoch: 43, Validation Loss: 0.0919299\n",
      "Epoch: 44, Training Loss: 0.1148965\n",
      "Epoch: 44, Validation Loss: 0.0913922\n",
      "Epoch: 45, Training Loss: 0.1145696\n",
      "Epoch: 45, Validation Loss: 0.0908727\n",
      "Epoch: 46, Training Loss: 0.1142771\n",
      "Epoch: 46, Validation Loss: 0.0906059\n",
      "Epoch: 47, Training Loss: 0.1139380\n",
      "Epoch: 47, Validation Loss: 0.0897529\n",
      "Epoch: 48, Training Loss: 0.1136721\n",
      "Epoch: 48, Validation Loss: 0.0895176\n",
      "Epoch: 49, Training Loss: 0.1133318\n",
      "Epoch: 49, Validation Loss: 0.0890290\n",
      "Epoch: 50, Training Loss: 0.1129823\n",
      "Epoch: 50, Validation Loss: 0.0885141\n",
      "Epoch: 51, Training Loss: 0.1127973\n",
      "Epoch: 51, Validation Loss: 0.0878503\n",
      "Epoch: 52, Training Loss: 0.1125225\n",
      "Epoch: 52, Validation Loss: 0.0879508\n",
      "Training complete before all iterations were done\n"
     ]
    }
   ],
   "source": [
    "W = network_weights(vocab_size=len(vocab),embedding_dim=300,\n",
    "                    hidden_dim=[1], num_classes=3)\n",
    "\n",
    "W[0] = w_glove\n",
    "\n",
    "W, loss_tr, dev_loss = SGD(X_tr, Y_tr,\n",
    "                            W,\n",
    "                            X_dev, \n",
    "                            Y_dev,\n",
    "                            lr=0.0001, \n",
    "                            dropout=0.1,\n",
    "                            freeze_emb=False,\n",
    "                            tolerance=0.0001,\n",
    "                            epochs=100)"
   ]
  },
  {
   "cell_type": "code",
   "execution_count": 84,
   "metadata": {},
   "outputs": [
    {
     "data": {
      "image/png": "[encoded data removed]",
      "text/plain": [
       "<Figure size 432x288 with 1 Axes>"
      ]
     },
     "metadata": {
      "needs_background": "light"
     },
     "output_type": "display_data"
    }
   ],
   "source": [
    "fig, ax = plt.subplots() \n",
    "ax.plot(range(len(loss_tr)),loss_tr, label=\"train\")\n",
    "ax.plot(range(len(dev_loss)),dev_loss,label=\"val\")\n",
    "ax.set(xlabel=\"Epochs\",ylabel=\"loss\",title=\"Loss History\")\n",
    "ax.grid()\n",
    "plt.legend([\"train\",\"val\"], loc=\"upper right\")           \n",
    "plt.show()"
   ]
  },
  {
   "cell_type": "code",
   "execution_count": 28,
   "metadata": {
    "ExecuteTime": {
     "end_time": "2020-04-02T15:12:00.815184Z",
     "start_time": "2020-04-02T15:12:00.812563Z"
    },
    "scrolled": true
   },
   "outputs": [
    {
     "name": "stderr",
     "output_type": "stream",
     "text": [
      "<ipython-input-21-2f240730fc6d>:12: RuntimeWarning: invalid value encountered in true_divide\n",
      "  h_vecs.append((np.sum(W[0][x,:],axis=0)*1/len(x)).reshape(1,n))\n"
     ]
    },
    {
     "name": "stdout",
     "output_type": "stream",
     "text": [
      "Precision: 0.8785365963867188\n",
      "Recall: 0.8766666666666666\n",
      "F1-Score: 0.8764464898452068\n",
      "Accuracy: 0.8766666666666667\n"
     ]
    }
   ],
   "source": [
    "preds_te = [np.argmax(forward_pass(x, W, dropout_rate=0.0)['y'])\n",
    "            for x,y in zip(X_te,Y_te)]\n",
    "           \n",
    "print('Precision:', precision_score(Y_te,preds_te,average='macro'))\n",
    "print('Recall:', recall_score(Y_te,preds_te,average='macro'))\n",
    "print('F1-Score:', f1_score(Y_te,preds_te,average='macro'))\n",
    "print('Accuracy:', accuracy_score(Y_te,preds_te))"
   ]
  },
  {
   "cell_type": "markdown",
   "metadata": {},
   "source": [
    "### Discuss how did you choose model hyperparameters ? "
   ]
  },
  {
   "cell_type": "markdown",
   "metadata": {
    "scrolled": true
   },
   "source": [
    "| Parameters | Precision  | Recall  | F1-Score  | Accuracy\n",
    "|:-:|:-:|:-:|:-:|:-:|\n",
    "| lr=0.001, dropout=0.2,tolerance=0.0001  | 0.8756   | 0.8733   | 0.8730   | 0.8733    |\n",
    "| lr=0.001, dropout=0.1,tolerance=0.0001  | 0.8724  | 0.87    | 0.8700    | 0.87    |\n",
    "| lr=0.0001, dropout=0.1,tolerance=0.0001    | 0.8745    | 0.8722    | 0.8821   | 0.8722    |\n",
    "| lr=0.01, dropout=0.1,tolerance=0.0001    | 0.8707   | 0.8688    | 0.8684    | 0.8688  |\n",
    "\n"
   ]
  },
  {
   "cell_type": "markdown",
   "metadata": {},
   "source": [
    "lr=0.0001, dropout=0.1,tolerance=0.0001\n",
    "\n",
    "The above combination of the parameters have been chosen because:\n",
    "\n",
    "- They have returned better metrics and the learning curve for both train and dev appear to be almost converging\n",
    "- Keeping the learning rate low again has been beneficial in getting a better model\n",
    "- Also the model has run for more epochs than for any other combinations indicating better learning\n",
    "- Low Regularisation(droupout) 0.1 yeiled higher accuracy as compared to other combinations"
   ]
  },
  {
   "cell_type": "markdown",
   "metadata": {},
   "source": [
    "# Extend to support deeper architectures \n",
    "\n",
    "Extend the network to support back-propagation for more hidden layers. You need to modify the `backward_pass` function above to compute gradients and update the weights between intermediate hidden layers. Finally, train and evaluate a network with a deeper architecture. Do deeper architectures increase performance?"
   ]
  },
  {
   "cell_type": "code",
   "execution_count": 101,
   "metadata": {},
   "outputs": [
    {
     "name": "stdout",
     "output_type": "stream",
     "text": [
      "Training started:\n",
      "Epoch: 0, Training Loss: 0.3362570\n",
      "Epoch: 0, Validation Loss: 0.2343529\n",
      "Epoch: 1, Training Loss: 0.2045834\n",
      "Epoch: 1, Validation Loss: 0.1699535\n",
      "Epoch: 2, Training Loss: 0.1687308\n",
      "Epoch: 2, Validation Loss: 0.1437720\n",
      "Epoch: 3, Training Loss: 0.1531911\n",
      "Epoch: 3, Validation Loss: 0.1295978\n",
      "Epoch: 4, Training Loss: 0.1441007\n",
      "Epoch: 4, Validation Loss: 0.1192124\n",
      "Epoch: 5, Training Loss: 0.1380375\n",
      "Epoch: 5, Validation Loss: 0.1149436\n",
      "Epoch: 6, Training Loss: 0.1338094\n",
      "Epoch: 6, Validation Loss: 0.1078777\n",
      "Epoch: 7, Training Loss: 0.1305308\n",
      "Epoch: 7, Validation Loss: 0.1034267\n",
      "Epoch: 8, Training Loss: 0.1277654\n",
      "Epoch: 8, Validation Loss: 0.1001700\n",
      "Epoch: 9, Training Loss: 0.1255398\n",
      "Epoch: 9, Validation Loss: 0.0968701\n",
      "Epoch: 10, Training Loss: 0.1236953\n",
      "Epoch: 10, Validation Loss: 0.0952696\n",
      "Epoch: 11, Training Loss: 0.1219387\n",
      "Epoch: 11, Validation Loss: 0.0919048\n",
      "Epoch: 12, Training Loss: 0.1201831\n",
      "Epoch: 12, Validation Loss: 0.0912848\n",
      "Epoch: 13, Training Loss: 0.1187880\n",
      "Epoch: 13, Validation Loss: 0.0903937\n",
      "Epoch: 14, Training Loss: 0.1175082\n",
      "Epoch: 14, Validation Loss: 0.0860679\n",
      "Epoch: 15, Training Loss: 0.1166155\n",
      "Epoch: 15, Validation Loss: 0.0851613\n",
      "Epoch: 16, Training Loss: 0.1155899\n",
      "Epoch: 16, Validation Loss: 0.0848705\n",
      "Epoch: 17, Training Loss: 0.1143798\n",
      "Epoch: 17, Validation Loss: 0.0833475\n",
      "Epoch: 18, Training Loss: 0.1132026\n",
      "Epoch: 18, Validation Loss: 0.0841405\n",
      "Training complete on before all iterations were done\n"
     ]
    }
   ],
   "source": [
    "W = network_weights(vocab_size=len(vocab),embedding_dim=300,\n",
    "                    hidden_dim=[2], num_classes=3)\n",
    "\n",
    "W[0] = w_glove\n",
    "\n",
    "W, loss_tr, dev_loss = SGD(X_tr, Y_tr,\n",
    "                            W,\n",
    "                            X_dev, \n",
    "                            Y_dev,\n",
    "                            lr=0.0001, \n",
    "                            dropout=0.1,\n",
    "                            freeze_emb=True,\n",
    "                            tolerance=0.0001,\n",
    "                            epochs=100)"
   ]
  },
  {
   "cell_type": "code",
   "execution_count": 102,
   "metadata": {},
   "outputs": [
    {
     "data": {
      "image/png": "[encoded data removed]",
      "text/plain": [
       "<Figure size 432x288 with 1 Axes>"
      ]
     },
     "metadata": {
      "needs_background": "light"
     },
     "output_type": "display_data"
    }
   ],
   "source": [
    "fig, ax = plt.subplots() \n",
    "ax.plot(range(len(loss_tr)),loss_tr, label=\"train\")\n",
    "ax.plot(range(len(dev_loss)),dev_loss,label=\"val\")\n",
    "ax.set(xlabel=\"Epochs\",ylabel=\"loss\",title=\"Loss History\")\n",
    "ax.grid()\n",
    "plt.legend([\"train\",\"val\"], loc=\"upper right\")           \n",
    "plt.show()"
   ]
  },
  {
   "cell_type": "code",
   "execution_count": 103,
   "metadata": {},
   "outputs": [
    {
     "name": "stderr",
     "output_type": "stream",
     "text": [
      "<ipython-input-39-c4db2328e62e>:12: RuntimeWarning: invalid value encountered in true_divide\n",
      "  h_vecs.append((np.sum(W[0][x,:],axis=0)*1/len(x)).reshape(1,n))\n"
     ]
    },
    {
     "name": "stdout",
     "output_type": "stream",
     "text": [
      "Precision: 0.8680451589152044\n",
      "Recall: 0.8655555555555555\n",
      "F1-Score: 0.8662289128820846\n",
      "Accuracy: 0.8655555555555555\n"
     ]
    }
   ],
   "source": [
    "preds_te = [np.argmax(forward_pass(x, W, dropout_rate=0.0)['y'])\n",
    "            for x,y in zip(X_te,Y_te)]\n",
    "           \n",
    "print('Precision:', precision_score(Y_te,preds_te,average='macro'))\n",
    "print('Recall:', recall_score(Y_te,preds_te,average='macro'))\n",
    "print('F1-Score:', f1_score(Y_te,preds_te,average='macro'))\n",
    "print('Accuracy:', accuracy_score(Y_te,preds_te))"
   ]
  },
  {
   "cell_type": "markdown",
   "metadata": {},
   "source": [
    "### Discuss how did you choose model hyperparameters ? "
   ]
  },
  {
   "cell_type": "markdown",
   "metadata": {},
   "source": [
    "| Parameters | Precision  | Recall  | F1-Score  | Accuracy\n",
    "|:-:|:-:|:-:|:-:|:-:|\n",
    "| lr=0.00001, dropout=0.1,tolerance=0.0001  | 0.8512    | 0.85    | 0.8501    | 0.85    |\n",
    "| lr=0.0001, dropout=0.1,tolerance=0.0001  | 0.8680   | 0.8655     | 0.8662     | 0.8655     |\n",
    "| lr=0.001, dropout=0.1,tolerance=0.0001    | 0.8684    | 0.8677     | 0.8668     | 0.8677    |\n",
    "| lr=0.01, dropout=0.1,tolerance=0.0001    | 0.8460   | 0.84    | 0.8382    | 0.84    |\n",
    "\n"
   ]
  },
  {
   "cell_type": "markdown",
   "metadata": {},
   "source": [
    "lr=0.0001, dropout=0.1,tolerance=0.0001\n",
    "The above combination of the parameters have been chosen because:\n",
    "\n",
    "- They have returned a good F-1 score and the learning curve for both train and dev are better than for other combinations\n",
    "- Keeping the learning rate lower again has been beneficial in getting a better model but an even lower learning rate doesnt return good metrics\n",
    "\n"
   ]
  },
  {
   "cell_type": "markdown",
   "metadata": {},
   "source": [
    "## Full Results\n",
    "\n",
    "Add your final results here:\n",
    "\n",
    "| Model | Precision  | Recall  | F1-Score  | Accuracy\n",
    "|:-:|:-:|:-:|:-:|:-:|\n",
    "| Average Embedding  | 0.7920  | 0.7888   | 0.7882   | 0.7888   |\n",
    "| Average Embedding (Pre-trained)  | 0.8745    | 0.8722    | 0.8821   | 0.8722    \n",
    "| Average Embedding (Pre-trained) + X hidden layers    | 0.8680   | 0.8655     | 0.8662     | 0.8655     |\n",
    "\n",
    "\n",
    "Please discuss why your best performing model is better than the rest."
   ]
  },
  {
   "cell_type": "markdown",
   "metadata": {
    "scrolled": true
   },
   "source": [
    "Average Embedding (Pre-trained) model is better than the other two as primarily because of the better performance which is evident from the metrics. \n",
    "One reason that this model performs better is the use of pretrained vectors as compared to the random embedding weights used for the Average Emdedding model for which the weights were randomly assigned.\n",
    "As for the Average Embedding (Pre-trained) + X hidden layers model, adding another hidden layer may have added uncessary complexity in the architecture which did not contribute as aexpected but it still performs better than the Average Embedding model."
   ]
  },
  {
   "cell_type": "code",
   "execution_count": null,
   "metadata": {},
   "outputs": [],
   "source": []
  }
 ],
 "metadata": {
  "kernelspec": {
   "display_name": "Python 3",
   "language": "python",
   "name": "python3"
  },
  "language_info": {
   "codemirror_mode": {
    "name": "ipython",
    "version": 3
   },
   "file_extension": ".py",
   "mimetype": "text/x-python",
   "name": "python",
   "nbconvert_exporter": "python",
   "pygments_lexer": "ipython3",
   "version": "3.8.5"
  }
 },
 "nbformat": 4,
 "nbformat_minor": 2
}
